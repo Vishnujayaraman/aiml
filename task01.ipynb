{
 "cells": [
  {
   "cell_type": "code",
   "execution_count": 1,
   "id": "736f17c6",
   "metadata": {},
   "outputs": [],
   "source": [
    "graph={'home':['pattukkottai'],\n",
    "      'pattukkottai':['newbusstand','oldbusstand'],\n",
    "      'newbusstand':['bypass'],\n",
    "       'bypass':['vallam'],\n",
    "      'vallam':['pmist'],\n",
    "      'oldbusstand':['tmc'],\n",
    "      'tmc':['pillayarpatti'],\n",
    "      'pillayarpatti':['pmist'],\n",
    "      'pmist':['vallam'] \n",
    "      }"
   ]
  },
  {
   "cell_type": "code",
   "execution_count": 2,
   "id": "c28557fb",
   "metadata": {},
   "outputs": [
    {
     "name": "stdout",
     "output_type": "stream",
     "text": [
      "{'home': ['pattukkottai'], 'pattukkottai': ['newbusstand', 'oldbusstand'], 'newbusstand': ['bypass'], 'bypass': ['vallam'], 'vallam': ['pmist'], 'oldbusstand': ['tmc'], 'tmc': ['pillayarpatti'], 'pillayarpatti': ['pmist'], 'pmist': ['vallam']}\n"
     ]
    }
   ],
   "source": [
    "print(graph)"
   ]
  },
  {
   "cell_type": "code",
   "execution_count": 3,
   "id": "53de6171",
   "metadata": {},
   "outputs": [],
   "source": [
    "from collections import deque\n",
    "def BFS(graph,start,goal):\n",
    "    visited=[]\n",
    "    queue=deque([start])\n",
    "    while queue:\n",
    "        node=queue.popleft()\n",
    "        if node not in visited:\n",
    "            visited.append(node)\n",
    "            print(\"I have visited:\",node)\n",
    "            neighbournode=graph[node]\n",
    "            if node==goal:\n",
    "                print(\"I have reached the goal, the path I travelled\",visited)\n",
    "            for neighbours in neighbournode:\n",
    "                queue.append(neighbours)"
   ]
  },
  {
   "cell_type": "code",
   "execution_count": 4,
   "id": "a1f8e12f",
   "metadata": {},
   "outputs": [
    {
     "name": "stdout",
     "output_type": "stream",
     "text": [
      "I have visited: home\n",
      "I have visited: pattukkottai\n",
      "I have visited: newbusstand\n",
      "I have visited: oldbusstand\n",
      "I have visited: bypass\n",
      "I have visited: tmc\n",
      "I have visited: vallam\n",
      "I have visited: pillayarpatti\n",
      "I have visited: pmist\n",
      "I have reached the goal, the path I travelled ['home', 'pattukkottai', 'newbusstand', 'oldbusstand', 'bypass', 'tmc', 'vallam', 'pillayarpatti', 'pmist']\n"
     ]
    }
   ],
   "source": [
    "BFS(graph,'home','pmist')"
   ]
  },
  {
   "cell_type": "code",
   "execution_count": null,
   "id": "36df18c5",
   "metadata": {},
   "outputs": [],
   "source": []
  },
  {
   "cell_type": "code",
   "execution_count": null,
   "id": "5f417e1e",
   "metadata": {},
   "outputs": [],
   "source": []
  }
 ],
 "metadata": {
  "kernelspec": {
   "display_name": "Python 3 (ipykernel)",
   "language": "python",
   "name": "python3"
  },
  "language_info": {
   "codemirror_mode": {
    "name": "ipython",
    "version": 3
   },
   "file_extension": ".py",
   "mimetype": "text/x-python",
   "name": "python",
   "nbconvert_exporter": "python",
   "pygments_lexer": "ipython3",
   "version": "3.9.18"
  }
 },
 "nbformat": 4,
 "nbformat_minor": 5
}
