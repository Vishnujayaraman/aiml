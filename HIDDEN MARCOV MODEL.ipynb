{
 "cells": [
  {
   "cell_type": "markdown",
   "id": "1c8efd8c",
   "metadata": {},
   "source": [
    "In our problem we have our poor prisoner who is stuck in a prison as the story says this prison is completly isolated from the rest of the world and one cannot even see the sky in such scenario our prisoner has been in the prisoner has been in the prison for two  years now the funny thing is that there is an incharge who takes care of all the prisoners so the incharge wears a hat if its sunny and wears a rain coat if its rainy since the prisoner has no acess to open space he can only deduce the weather by checking what the inchange came in everyday is it a rain coat or a hat"
   ]
  },
  {
   "cell_type": "code",
   "execution_count": null,
   "id": "09a97acc",
   "metadata": {},
   "outputs": [],
   "source": [
    "pip install pandas"
   ]
  },
  {
   "cell_type": "code",
   "execution_count": 1,
   "id": "3bfab803",
   "metadata": {},
   "outputs": [],
   "source": [
    "from protopunica import*\n",
    "import pandas as pd"
   ]
  },
  {
   "cell_type": "code",
   "execution_count": 2,
   "id": "7f2999fc",
   "metadata": {},
   "outputs": [],
   "source": [
    "sunny=DiscreteDistribution({\"raincoat\":0.1,\"Hat\":0.9})\n",
    "rainy=DiscreteDistribution({\"raincoat\":0.7,\"Hat\":0.3})"
   ]
  },
  {
   "cell_type": "code",
   "execution_count": 3,
   "id": "c70376e1",
   "metadata": {},
   "outputs": [],
   "source": [
    "states=[sunny,rainy]"
   ]
  },
  {
   "cell_type": "code",
   "execution_count": 4,
   "id": "4a53dac8",
   "metadata": {},
   "outputs": [],
   "source": [
    "transition_model=numpy.array([[0.3,0.7],[0.4,0.6]])"
   ]
  },
  {
   "cell_type": "code",
   "execution_count": 5,
   "id": "8d75f1c6",
   "metadata": {},
   "outputs": [],
   "source": [
    "initial_state=numpy.array([0.3,0.7])"
   ]
  },
  {
   "cell_type": "code",
   "execution_count": 6,
   "id": "e906eb88",
   "metadata": {},
   "outputs": [],
   "source": [
    "model=HiddenMarkovModel.from_matrix(transition_model,states,initial_state,state_names=[\"sunny\",\"rainy\"])"
   ]
  },
  {
   "cell_type": "code",
   "execution_count": 7,
   "id": "3a1b4f48",
   "metadata": {},
   "outputs": [],
   "source": [
    "model.bake()"
   ]
  },
  {
   "cell_type": "code",
   "execution_count": 8,
   "id": "0dd8f0ac",
   "metadata": {},
   "outputs": [],
   "source": [
    "observations=[\"Hat\",\"Hat\",\"raincoat\",\"raincoat\",\"Hat\",\"raincoat\"]"
   ]
  },
  {
   "cell_type": "code",
   "execution_count": 9,
   "id": "0276d38d",
   "metadata": {},
   "outputs": [],
   "source": [
    "predictions=model.predict(observations)"
   ]
  },
  {
   "cell_type": "code",
   "execution_count": 10,
   "id": "51645630",
   "metadata": {},
   "outputs": [
    {
     "data": {
      "text/plain": [
       "[1, 1, 0, 0, 1, 0]"
      ]
     },
     "execution_count": 10,
     "metadata": {},
     "output_type": "execute_result"
    }
   ],
   "source": [
    "predictions"
   ]
  },
  {
   "cell_type": "code",
   "execution_count": 11,
   "id": "a32f291a",
   "metadata": {},
   "outputs": [
    {
     "data": {
      "text/plain": [
       "{\n",
       "    \"class\" : \"HiddenMarkovModel\",\n",
       "    \"name\" : \"None\",\n",
       "    \"start\" : {\n",
       "        \"class\" : \"State\",\n",
       "        \"distribution\" : null,\n",
       "        \"name\" : \"None-start\",\n",
       "        \"weight\" : 1.0\n",
       "    },\n",
       "    \"end\" : {\n",
       "        \"class\" : \"State\",\n",
       "        \"distribution\" : null,\n",
       "        \"name\" : \"None-end\",\n",
       "        \"weight\" : 1.0\n",
       "    },\n",
       "    \"states\" : [\n",
       "        {\n",
       "            \"class\" : \"State\",\n",
       "            \"distribution\" : {\n",
       "                \"class\" : \"Distribution\",\n",
       "                \"dtype\" : \"str\",\n",
       "                \"name\" : \"DiscreteDistribution\",\n",
       "                \"parameters\" : [\n",
       "                    {\n",
       "                        \"raincoat\" : 0.7,\n",
       "                        \"Hat\" : 0.3\n",
       "                    }\n",
       "                ],\n",
       "                \"frozen\" : false\n",
       "            },\n",
       "            \"name\" : \"rainy\",\n",
       "            \"weight\" : 1.0\n",
       "        },\n",
       "        {\n",
       "            \"class\" : \"State\",\n",
       "            \"distribution\" : {\n",
       "                \"class\" : \"Distribution\",\n",
       "                \"dtype\" : \"str\",\n",
       "                \"name\" : \"DiscreteDistribution\",\n",
       "                \"parameters\" : [\n",
       "                    {\n",
       "                        \"raincoat\" : 0.1,\n",
       "                        \"Hat\" : 0.9\n",
       "                    }\n",
       "                ],\n",
       "                \"frozen\" : false\n",
       "            },\n",
       "            \"name\" : \"sunny\",\n",
       "            \"weight\" : 1.0\n",
       "        },\n",
       "        {\n",
       "            \"class\" : \"State\",\n",
       "            \"distribution\" : null,\n",
       "            \"name\" : \"None-start\",\n",
       "            \"weight\" : 1.0\n",
       "        },\n",
       "        {\n",
       "            \"class\" : \"State\",\n",
       "            \"distribution\" : null,\n",
       "            \"name\" : \"None-end\",\n",
       "            \"weight\" : 1.0\n",
       "        }\n",
       "    ],\n",
       "    \"end_index\" : 3,\n",
       "    \"start_index\" : 2,\n",
       "    \"silent_index\" : 2,\n",
       "    \"edges\" : [\n",
       "        [\n",
       "            2,\n",
       "            1,\n",
       "            0.3,\n",
       "            0.3,\n",
       "            null\n",
       "        ],\n",
       "        [\n",
       "            2,\n",
       "            0,\n",
       "            0.7,\n",
       "            0.7,\n",
       "            null\n",
       "        ],\n",
       "        [\n",
       "            1,\n",
       "            1,\n",
       "            0.3,\n",
       "            0.3,\n",
       "            null\n",
       "        ],\n",
       "        [\n",
       "            1,\n",
       "            0,\n",
       "            0.7,\n",
       "            0.7,\n",
       "            null\n",
       "        ],\n",
       "        [\n",
       "            0,\n",
       "            1,\n",
       "            0.4,\n",
       "            0.4,\n",
       "            null\n",
       "        ],\n",
       "        [\n",
       "            0,\n",
       "            0,\n",
       "            0.6,\n",
       "            0.6,\n",
       "            null\n",
       "        ]\n",
       "    ],\n",
       "    \"distribution ties\" : []\n",
       "}"
      ]
     },
     "execution_count": 11,
     "metadata": {},
     "output_type": "execute_result"
    }
   ],
   "source": [
    "model"
   ]
  },
  {
   "cell_type": "code",
   "execution_count": 12,
   "id": "040e272c",
   "metadata": {},
   "outputs": [
    {
     "name": "stdout",
     "output_type": "stream",
     "text": [
      "sunny\n",
      "sunny\n",
      "rainy\n",
      "rainy\n",
      "sunny\n",
      "rainy\n"
     ]
    }
   ],
   "source": [
    "for prediction in predictions:\n",
    "    print(model.states[prediction].name)"
   ]
  },
  {
   "cell_type": "code",
   "execution_count": 13,
   "id": "cfc93965",
   "metadata": {},
   "outputs": [],
   "source": [
    "predicted_probabilities=model.predict_proba(observations)"
   ]
  },
  {
   "cell_type": "code",
   "execution_count": 14,
   "id": "fbd5f73f",
   "metadata": {},
   "outputs": [],
   "source": [
    "most_likely_weather=pd.DataFrame(predicted_probabilities,columns=[\"rainy\",\"sunny\"])"
   ]
  },
  {
   "cell_type": "code",
   "execution_count": 15,
   "id": "102f04d1",
   "metadata": {},
   "outputs": [
    {
     "data": {
      "text/html": [
       "<div>\n",
       "<style scoped>\n",
       "    .dataframe tbody tr th:only-of-type {\n",
       "        vertical-align: middle;\n",
       "    }\n",
       "\n",
       "    .dataframe tbody tr th {\n",
       "        vertical-align: top;\n",
       "    }\n",
       "\n",
       "    .dataframe thead th {\n",
       "        text-align: right;\n",
       "    }\n",
       "</style>\n",
       "<table border=\"1\" class=\"dataframe\">\n",
       "  <thead>\n",
       "    <tr style=\"text-align: right;\">\n",
       "      <th></th>\n",
       "      <th>rainy</th>\n",
       "      <th>sunny</th>\n",
       "    </tr>\n",
       "  </thead>\n",
       "  <tbody>\n",
       "    <tr>\n",
       "      <th>0</th>\n",
       "      <td>0.469701</td>\n",
       "      <td>0.530299</td>\n",
       "    </tr>\n",
       "    <tr>\n",
       "      <th>1</th>\n",
       "      <td>0.361078</td>\n",
       "      <td>0.638922</td>\n",
       "    </tr>\n",
       "    <tr>\n",
       "      <th>2</th>\n",
       "      <td>0.923293</td>\n",
       "      <td>0.076707</td>\n",
       "    </tr>\n",
       "    <tr>\n",
       "      <th>3</th>\n",
       "      <td>0.924857</td>\n",
       "      <td>0.075143</td>\n",
       "    </tr>\n",
       "    <tr>\n",
       "      <th>4</th>\n",
       "      <td>0.314251</td>\n",
       "      <td>0.685749</td>\n",
       "    </tr>\n",
       "    <tr>\n",
       "      <th>5</th>\n",
       "      <td>0.933111</td>\n",
       "      <td>0.066889</td>\n",
       "    </tr>\n",
       "  </tbody>\n",
       "</table>\n",
       "</div>"
      ],
      "text/plain": [
       "      rainy     sunny\n",
       "0  0.469701  0.530299\n",
       "1  0.361078  0.638922\n",
       "2  0.923293  0.076707\n",
       "3  0.924857  0.075143\n",
       "4  0.314251  0.685749\n",
       "5  0.933111  0.066889"
      ]
     },
     "execution_count": 15,
     "metadata": {},
     "output_type": "execute_result"
    }
   ],
   "source": [
    "most_likely_weather"
   ]
  },
  {
   "cell_type": "code",
   "execution_count": null,
   "id": "7af929bb",
   "metadata": {},
   "outputs": [],
   "source": []
  }
 ],
 "metadata": {
  "kernelspec": {
   "display_name": "Python 3 (ipykernel)",
   "language": "python",
   "name": "python3"
  },
  "language_info": {
   "codemirror_mode": {
    "name": "ipython",
    "version": 3
   },
   "file_extension": ".py",
   "mimetype": "text/x-python",
   "name": "python",
   "nbconvert_exporter": "python",
   "pygments_lexer": "ipython3",
   "version": "3.9.18"
  }
 },
 "nbformat": 4,
 "nbformat_minor": 5
}
