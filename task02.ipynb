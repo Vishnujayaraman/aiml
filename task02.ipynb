{
 "cells": [
  {
   "cell_type": "code",
   "execution_count": 1,
   "id": "736f17c6",
   "metadata": {},
   "outputs": [],
   "source": [
    "graph={'home':['pattukkottai'],\n",
    "      'pattukkottai':['newbusstand','oldbusstand'],\n",
    "      'newbusstand':['bypass'],\n",
    "       'bypass':['vallam'],\n",
    "      'vallam':['pmist'],\n",
    "      'oldbusstand':['tmc'],\n",
    "      'tmc':['pillayarpatti'],\n",
    "      'pillayarpatti':['pmist'],\n",
    "      'pmist':['vallam'] \n",
    "      }"
   ]
  },
  {
   "cell_type": "code",
   "execution_count": 2,
   "id": "c28557fb",
   "metadata": {},
   "outputs": [
    {
     "name": "stdout",
     "output_type": "stream",
     "text": [
      "{'home': ['pattukkottai'], 'pattukkottai': ['newbusstand', 'oldbusstand'], 'newbusstand': ['bypass'], 'bypass': ['vallam'], 'vallam': ['pmist'], 'oldbusstand': ['tmc'], 'tmc': ['pillayarpatti'], 'pillayarpatti': ['pmist'], 'pmist': ['vallam']}\n"
     ]
    }
   ],
   "source": [
    "print(graph)"
   ]
  },
  {
   "cell_type": "code",
   "execution_count": 11,
   "id": "53de6171",
   "metadata": {},
   "outputs": [],
   "source": [
    "from queue import LifoQueue\n",
    "stack=LifoQueue\n",
    "def dfs(graph,start,goal,visited):\n",
    "    stack=[start]\n",
    "    while stack:\n",
    "        node=stack.pop()\n",
    "        if node not in visited:\n",
    "            visited.append(node)\n",
    "            if node==goal:\n",
    "                print(visited)\n",
    "            for neighbors in graph[node]:\n",
    "                dfs(graph,neighbors,goal,visited)\n",
    "    "
   ]
  },
  {
   "cell_type": "code",
   "execution_count": 12,
   "id": "a1f8e12f",
   "metadata": {},
   "outputs": [
    {
     "name": "stdout",
     "output_type": "stream",
     "text": [
      "['home', 'pattukkottai', 'newbusstand', 'bypass', 'vallam', 'pmist']\n"
     ]
    }
   ],
   "source": [
    "dfs(graph,'home','pmist',[])"
   ]
  },
  {
   "cell_type": "code",
   "execution_count": null,
   "id": "2fc8d8d8",
   "metadata": {},
   "outputs": [],
   "source": []
  }
 ],
 "metadata": {
  "kernelspec": {
   "display_name": "Python 3 (ipykernel)",
   "language": "python",
   "name": "python3"
  },
  "language_info": {
   "codemirror_mode": {
    "name": "ipython",
    "version": 3
   },
   "file_extension": ".py",
   "mimetype": "text/x-python",
   "name": "python",
   "nbconvert_exporter": "python",
   "pygments_lexer": "ipython3",
   "version": "3.9.18"
  }
 },
 "nbformat": 4,
 "nbformat_minor": 5
}
