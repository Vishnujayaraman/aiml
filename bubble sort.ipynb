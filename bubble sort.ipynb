{
 "cells": [
  {
   "cell_type": "code",
   "execution_count": 1,
   "id": "d1a6e051",
   "metadata": {},
   "outputs": [],
   "source": [
    "data=[13,23,45,67,78,43,-12,-23,-34,-56]\n"
   ]
  },
  {
   "cell_type": "code",
   "execution_count": 16,
   "id": "b7ad0587",
   "metadata": {},
   "outputs": [
    {
     "data": {
      "text/plain": [
       "10"
      ]
     },
     "execution_count": 16,
     "metadata": {},
     "output_type": "execute_result"
    }
   ],
   "source": [
    "len(data)\n"
   ]
  },
  {
   "cell_type": "code",
   "execution_count": 19,
   "id": "1b44d52d",
   "metadata": {},
   "outputs": [],
   "source": [
    "def bubble_sort(data):\n",
    "    \n",
    "    for i in range(len(data)):\n",
    "        for j in range(0,len(data)-i-1):\n",
    "\n",
    "            if data[j]>data[j+1]:\n",
    "                k=data[j]\n",
    "                data[j]=data[j+1]\n",
    "                data[j+1]=k"
   ]
  },
  {
   "cell_type": "code",
   "execution_count": 20,
   "id": "b6afc1f1",
   "metadata": {},
   "outputs": [],
   "source": [
    "bubble_sort(data)"
   ]
  },
  {
   "cell_type": "code",
   "execution_count": 21,
   "id": "f7dd6e64",
   "metadata": {},
   "outputs": [
    {
     "name": "stdout",
     "output_type": "stream",
     "text": [
      "[-56, -34, -23, -12, 13, 23, 43, 45, 67, 78]\n"
     ]
    }
   ],
   "source": [
    "print(data)"
   ]
  },
  {
   "cell_type": "code",
   "execution_count": null,
   "id": "f0020e83",
   "metadata": {},
   "outputs": [],
   "source": []
  }
 ],
 "metadata": {
  "kernelspec": {
   "display_name": "Python 3 (ipykernel)",
   "language": "python",
   "name": "python3"
  },
  "language_info": {
   "codemirror_mode": {
    "name": "ipython",
    "version": 3
   },
   "file_extension": ".py",
   "mimetype": "text/x-python",
   "name": "python",
   "nbconvert_exporter": "python",
   "pygments_lexer": "ipython3",
   "version": "3.10.12"
  }
 },
 "nbformat": 4,
 "nbformat_minor": 5
}
