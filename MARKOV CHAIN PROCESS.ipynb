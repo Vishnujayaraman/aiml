{
 "cells": [
  {
   "cell_type": "markdown",
   "id": "4677f11a",
   "metadata": {},
   "source": [
    "If mr.marcov had a pizza for lunch the probability that he is going to have a pizza is 75% and 75% is probable that he is going to have vegetables and steak tomorrow. Similarly if Mr.Marcov have vegetables and steak for lunch today then he is 60% sure that he will have the same lunch tomorrow and 40% sure that he will have a pizza..."
   ]
  },
  {
   "cell_type": "code",
   "execution_count": 1,
   "id": "abd00bc0",
   "metadata": {},
   "outputs": [],
   "source": [
    "from protopunica import*"
   ]
  },
  {
   "cell_type": "code",
   "execution_count": 2,
   "id": "7de9419e",
   "metadata": {},
   "outputs": [],
   "source": [
    "import numpy as np"
   ]
  },
  {
   "cell_type": "code",
   "execution_count": 3,
   "id": "0ae9c7a6",
   "metadata": {},
   "outputs": [],
   "source": [
    "start=DiscreteDistribution({\"pizza\":1,\"veg\":0})"
   ]
  },
  {
   "cell_type": "code",
   "execution_count": 4,
   "id": "5edfd106",
   "metadata": {},
   "outputs": [],
   "source": [
    "Transitions=ConditionalProbabilityTable([[\"pizza\",\"pizza\",0.75],\n",
    "                                        [\"pizza\",\"veg\",0.25],\n",
    "                                        [\"veg\",\"veg\",0.6],\n",
    "                                        [\"veg\",\"pizza\",0.4]],[start])"
   ]
  },
  {
   "cell_type": "code",
   "execution_count": 5,
   "id": "12691f6d",
   "metadata": {},
   "outputs": [],
   "source": [
    "Model=MarkovChain([start,Transitions])"
   ]
  },
  {
   "cell_type": "code",
   "execution_count": 6,
   "id": "f8780c67",
   "metadata": {},
   "outputs": [],
   "source": [
    "Random_samples=Model.sample(3)"
   ]
  },
  {
   "cell_type": "code",
   "execution_count": 7,
   "id": "f376f6bb",
   "metadata": {},
   "outputs": [
    {
     "name": "stdout",
     "output_type": "stream",
     "text": [
      "['pizza', 'pizza', 'veg']\n"
     ]
    }
   ],
   "source": [
    "print(Random_samples)"
   ]
  },
  {
   "cell_type": "code",
   "execution_count": 8,
   "id": "8e9eee5a",
   "metadata": {},
   "outputs": [],
   "source": [
    "Log_probability=Model.log_probability(Random_samples)"
   ]
  },
  {
   "cell_type": "code",
   "execution_count": 9,
   "id": "a8a3b9ac",
   "metadata": {},
   "outputs": [],
   "source": [
    "probability_of_occurance=np.exp(Log_probability)"
   ]
  },
  {
   "cell_type": "code",
   "execution_count": 10,
   "id": "caf853b9",
   "metadata": {},
   "outputs": [
    {
     "data": {
      "text/plain": [
       "0.1875"
      ]
     },
     "execution_count": 10,
     "metadata": {},
     "output_type": "execute_result"
    }
   ],
   "source": [
    "probability_of_occurance"
   ]
  },
  {
   "cell_type": "code",
   "execution_count": 11,
   "id": "cf93c424",
   "metadata": {},
   "outputs": [],
   "source": [
    "Log_probability_food_sequence=Model.log_probability([\"pizza\",\"veg\",\"pizza\"])"
   ]
  },
  {
   "cell_type": "code",
   "execution_count": 12,
   "id": "3da31063",
   "metadata": {},
   "outputs": [],
   "source": [
    "probability_of_food=np.exp(Log_probability_food_sequence)"
   ]
  },
  {
   "cell_type": "code",
   "execution_count": 13,
   "id": "b67c0203",
   "metadata": {},
   "outputs": [
    {
     "name": "stdout",
     "output_type": "stream",
     "text": [
      "0.10000000000000002\n"
     ]
    }
   ],
   "source": [
    "print(probability_of_food)"
   ]
  },
  {
   "cell_type": "code",
   "execution_count": null,
   "id": "8a06d95c",
   "metadata": {},
   "outputs": [],
   "source": []
  },
  {
   "cell_type": "code",
   "execution_count": null,
   "id": "e45ad0a7",
   "metadata": {},
   "outputs": [],
   "source": []
  }
 ],
 "metadata": {
  "kernelspec": {
   "display_name": "Python 3 (ipykernel)",
   "language": "python",
   "name": "python3"
  },
  "language_info": {
   "codemirror_mode": {
    "name": "ipython",
    "version": 3
   },
   "file_extension": ".py",
   "mimetype": "text/x-python",
   "name": "python",
   "nbconvert_exporter": "python",
   "pygments_lexer": "ipython3",
   "version": "3.9.18"
  }
 },
 "nbformat": 4,
 "nbformat_minor": 5
}
