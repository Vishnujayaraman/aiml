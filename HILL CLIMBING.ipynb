{
 "cells": [
  {
   "cell_type": "markdown",
   "id": "606e09b0",
   "metadata": {},
   "source": [
    "# TRAVELING SALES PERSON\n",
    "FINDING THE BEST POSSIBLE SHORTEST ROUTE AMONG THESE CITIES TO TRAVEL\n",
    "\n",
    "chennai-bangalore=347,\n",
    "chennai-delhi=2196,\n",
    "chennai-kolkatta=1667,\n",
    "bangalore-delhi=2164,\n",
    "bangalore-kolkatta=1875,\n",
    "delhi-kolkatta=1559\n",
    "\n",
    "All values in kms."
   ]
  },
  {
   "cell_type": "code",
   "execution_count": 1,
   "id": "cb3d164a",
   "metadata": {},
   "outputs": [],
   "source": [
    "import random "
   ]
  },
  {
   "cell_type": "code",
   "execution_count": 2,
   "id": "1c092b7b",
   "metadata": {},
   "outputs": [],
   "source": [
    "tsp=[[0,347,2196,1667],\n",
    "    [347,0,2164,1875],\n",
    "    [2196,2164,0,1559],\n",
    "    [1667,1875,1559,0]]\n"
   ]
  },
  {
   "cell_type": "code",
   "execution_count": 3,
   "id": "afb1afc3",
   "metadata": {},
   "outputs": [
    {
     "data": {
      "text/plain": [
       "4"
      ]
     },
     "execution_count": 3,
     "metadata": {},
     "output_type": "execute_result"
    }
   ],
   "source": [
    "len(tsp)\n"
   ]
  },
  {
   "cell_type": "code",
   "execution_count": 4,
   "id": "67690ce5",
   "metadata": {},
   "outputs": [],
   "source": [
    "def randomsolution(tsp):\n",
    "    cities=list(range(len(tsp)))\n",
    "    solution=[]\n",
    "    \n",
    "    for i in range(len(tsp)):\n",
    "        randomcity=cities[random.randint(0,len(cities)-1)]\n",
    "        solution.append(randomcity)\n",
    "        cities.remove(randomcity)\n",
    "        \n",
    "        \n",
    "    return solution    \n",
    "    \n"
   ]
  },
  {
   "cell_type": "code",
   "execution_count": 27,
   "id": "1f98fd81",
   "metadata": {},
   "outputs": [
    {
     "name": "stdout",
     "output_type": "stream",
     "text": [
      "[2, 3, 1, 0]\n"
     ]
    }
   ],
   "source": [
    "solution=randomsolution(tsp)\n",
    "print(solution)"
   ]
  },
  {
   "cell_type": "code",
   "execution_count": 28,
   "id": "956d9419",
   "metadata": {},
   "outputs": [],
   "source": [
    "def routelength(tsp,solution):\n",
    "    routelength=0\n",
    "    for i in range(len(solution)):\n",
    "        routelength+=tsp[solution[i-1]][solution[i]]\n",
    "    return routelength"
   ]
  },
  {
   "cell_type": "code",
   "execution_count": 29,
   "id": "8b1ed441",
   "metadata": {},
   "outputs": [
    {
     "data": {
      "text/plain": [
       "5977"
      ]
     },
     "execution_count": 29,
     "metadata": {},
     "output_type": "execute_result"
    }
   ],
   "source": [
    "routelength(tsp,solution)"
   ]
  },
  {
   "cell_type": "code",
   "execution_count": 30,
   "id": "9001ed75",
   "metadata": {},
   "outputs": [],
   "source": [
    "def getneighbours(solution):\n",
    "    neighbours=[]\n",
    "    for i in range(len(solution)):\n",
    "        for j in range(i+1,len(solution)):\n",
    "            neighbour=solution.copy()\n",
    "            neighbour[i]=solution[j]\n",
    "            neighbour[j]=solution[i]\n",
    "            neighbours.append(neighbour)\n",
    "    return neighbours        "
   ]
  },
  {
   "cell_type": "code",
   "execution_count": 31,
   "id": "6ecd0650",
   "metadata": {},
   "outputs": [
    {
     "name": "stdout",
     "output_type": "stream",
     "text": [
      "[[3, 2, 1, 0], [1, 3, 2, 0], [0, 3, 1, 2], [2, 1, 3, 0], [2, 0, 1, 3], [2, 3, 0, 1]]\n"
     ]
    }
   ],
   "source": [
    "neighbours=getneighbours(solution)\n",
    "print(neighbours)"
   ]
  },
  {
   "cell_type": "code",
   "execution_count": 32,
   "id": "111706c8",
   "metadata": {},
   "outputs": [],
   "source": [
    "def getbestneighbour(tsp,neighbours):\n",
    "    bestroutelength=routelength(tsp,neighbours[0])\n",
    "    bestneighbour=neighbours[0]\n",
    "    for neighbour in neighbours:\n",
    "        currentroutelength=routelength(tsp,neighbour)\n",
    "        if currentroutelength<bestroutelength:\n",
    "            bestroutelength=currentroutelength\n",
    "            bestneighbour=neighbour\n",
    "        return bestneighbour,bestroutelength    "
   ]
  },
  {
   "cell_type": "code",
   "execution_count": 34,
   "id": "d2433030",
   "metadata": {},
   "outputs": [
    {
     "data": {
      "text/plain": [
       "([3, 2, 1, 0], 5737)"
      ]
     },
     "execution_count": 34,
     "metadata": {},
     "output_type": "execute_result"
    }
   ],
   "source": [
    "getbestneighbour(tsp,neighbours)"
   ]
  },
  {
   "cell_type": "code",
   "execution_count": 37,
   "id": "620b443d",
   "metadata": {},
   "outputs": [],
   "source": [
    "def hillclimbing(tsp):\n",
    "    currentsolution=randomsolution(tsp)\n",
    "    currentroutelength=routelength(tsp,currentsolution)\n",
    "    neighbours=getneighbours(currentsolution)\n",
    "    bestneighbour,bestneighbourroutelength=getbestneighbour(tsp,neighbours)\n",
    "    \n",
    "    while bestneighbourroutelength<currentroutelength:\n",
    "        currentsolution=bestneighbour\n",
    "        currentroutelength=bestneighbourroutelength\n",
    "        neighbours=getneighbours(currentsolution)\n",
    "        bestneighbour,bestneighbourroutelength=getbestneighbour(tsp,neighbours)\n",
    "    return currentsolution,currentroutelength    "
   ]
  },
  {
   "cell_type": "code",
   "execution_count": 38,
   "id": "56d89f6c",
   "metadata": {},
   "outputs": [
    {
     "name": "stdout",
     "output_type": "stream",
     "text": [
      "([3, 1, 0, 2], 5977)\n"
     ]
    }
   ],
   "source": [
    "print(hillclimbing(tsp))"
   ]
  },
  {
   "cell_type": "code",
   "execution_count": null,
   "id": "64feb845",
   "metadata": {},
   "outputs": [],
   "source": []
  }
 ],
 "metadata": {
  "kernelspec": {
   "display_name": "Python 3 (ipykernel)",
   "language": "python",
   "name": "python3"
  },
  "language_info": {
   "codemirror_mode": {
    "name": "ipython",
    "version": 3
   },
   "file_extension": ".py",
   "mimetype": "text/x-python",
   "name": "python",
   "nbconvert_exporter": "python",
   "pygments_lexer": "ipython3",
   "version": "3.9.18"
  }
 },
 "nbformat": 4,
 "nbformat_minor": 5
}
