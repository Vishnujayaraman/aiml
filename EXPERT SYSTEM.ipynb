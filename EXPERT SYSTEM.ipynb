{
 "cells": [
  {
   "cell_type": "code",
   "execution_count": 29,
   "id": "b0075e25",
   "metadata": {},
   "outputs": [
    {
     "name": "stdout",
     "output_type": "stream",
     "text": [
      "\t\tWelcome to AutoMobile AI Expert system\t\t\n",
      "\n",
      "\n",
      "AI : do you have any priblem with your vehicle ? (yes or no )\n",
      " \n",
      "you :yes\n",
      "\n",
      " enter the type of your issue down below : \n",
      " starting trouble\n",
      "2. woubble while driving\n",
      "3.I did't have issues\n",
      "\n",
      "\n",
      " enter here (number only):1\n",
      "\n",
      "AI:check the key is inserted?\n",
      "AI:Is it inserted?(yes or no)\n",
      "you:yes\n",
      "\n",
      "AI: keep try to start\n",
      "\n",
      "AI: I don't know about this issue,contact the service worker\n"
     ]
    }
   ],
   "source": [
    "import time\n",
    "print(\"\\t\\tWelcome to AutoMobile AI Expert system\\t\\t\")\n",
    "print(\"\\n\\nAI : do you have any priblem with your vehicle ? (yes or no )\\n \")\n",
    "choice1=input(\"you :\")\n",
    "if choice1==\"yes\":\n",
    "    print(\"\\n enter the type of your issue down below : \\n starting trouble\\n2. woubble while driving\\n3.I did't have issues\\n\")\n",
    "    choice2=input(\"\\n enter here (number only):\")\n",
    "    if choice2> \"3\" or choice2 < \"1\":\n",
    "        print(\"\\nAI : please enter valid key\")\n",
    "    elif choice2==\"3\":\n",
    "        print(\"\\nAI : Then,Way are you enter yes in the first equation\")\n",
    "    elif choice2==\"2\":\n",
    "        print(\"\\AI : ok let me think...\")\n",
    "        for i in range (1,20):\n",
    "            time.sleep(0.08)\n",
    "            print(\".\",flush=True,end=\"\")\n",
    "        print(\"\\nAI : when do you feel the woubbling \\n. while drive on the highway at terrible speed \\n 2.while drive normal road\\n\")\n",
    "\n",
    "        choice3=input(\"you :\")\n",
    "        if choice3==\"1\":\n",
    "            print(\"\\nAI : go slow\")\n",
    "        elif choice3==\"2\":\n",
    "            print(\"\\nAI :check you tire air pressure then check inform me kindly\")\n",
    "            print(\"\\nAI:still you feel woubble?(yes or no)\\n\")\n",
    "            choice4=input(\"you: \")      \n",
    "            if choice4==\"no\":\n",
    "                print(\"\\nAI : I'm glad to helped you...\\nthank you...!\\call me again\")\n",
    "            elif choice4==\"yes\":\n",
    "                print(\"\\nAI:I think your bike wheel was bend,pls service your bike\" )\n",
    "            else:\n",
    "                Print(\"\\nAI :will you plese enter the correct answer.....\")\n",
    "        else:\n",
    "            print(\"\\nAI:please enter valid key\")\n",
    "    else:\n",
    "        print(\"\\nAI:check the key is inserted?\\nAI:Is it inserted?(yes or no)\")\n",
    "        choice5=input(\"you:\")\n",
    "        if choice5==\"no\":\n",
    "            print(\"Insert the key\")\n",
    "        elif choice5==\"yes\":\n",
    "            print(\"\\nAI: keep try to start\")\n",
    "            for i in range(1,30):\n",
    "                time.sleep(0.08)\n",
    "            print(\"\\nAI: I don't know about this issue,contact the service worker\");\n",
    "        else:\n",
    "            print(\"pls enter the correct answer\") \n",
    "elif choice1==\"no\":\n",
    "    print(\"\\nAI:then way are you waste in time\")                 \n",
    "else:\n",
    "    print(\"AI : enter valid key\")                 \n",
    "                      \n",
    "                      \n",
    "                      \n",
    "                      \n",
    "                      \n",
    "                      \n",
    "                      \n",
    "                      \n",
    "                      "
   ]
  },
  {
   "cell_type": "code",
   "execution_count": null,
   "id": "c179e78f",
   "metadata": {},
   "outputs": [],
   "source": []
  },
  {
   "cell_type": "code",
   "execution_count": null,
   "id": "80aa794b",
   "metadata": {},
   "outputs": [],
   "source": []
  }
 ],
 "metadata": {
  "kernelspec": {
   "display_name": "Python 3 (ipykernel)",
   "language": "python",
   "name": "python3"
  },
  "language_info": {
   "codemirror_mode": {
    "name": "ipython",
    "version": 3
   },
   "file_extension": ".py",
   "mimetype": "text/x-python",
   "name": "python",
   "nbconvert_exporter": "python",
   "pygments_lexer": "ipython3",
   "version": "3.9.18"
  }
 },
 "nbformat": 4,
 "nbformat_minor": 5
}
