{
 "cells": [
  {
   "cell_type": "code",
   "execution_count": 9,
   "id": "c340a99e",
   "metadata": {},
   "outputs": [
    {
     "name": "stdout",
     "output_type": "stream",
     "text": [
      "false\n"
     ]
    }
   ],
   "source": [
    "if a==10:\n",
    "    print(\"pass\")\n",
    "else:\n",
    "    print(\"false\")"
   ]
  },
  {
   "cell_type": "code",
   "execution_count": null,
   "id": "68c8e042",
   "metadata": {},
   "outputs": [],
   "source": [
    "a=int(input(\"\"))\n",
    "b=int(input(\"\"))\n",
    "if a<b:\n",
    "    print(\"is smaller\")\n",
    "else:\n",
    "    print(\"is greater\")"
   ]
  },
  {
   "cell_type": "code",
   "execution_count": null,
   "id": "0969ee70",
   "metadata": {},
   "outputs": [],
   "source": [
    "age=int(input(\"Enter your age:\"))\n",
    "if age>=18:\n",
    "    print(\"you are elligible for voting\")\n",
    "else:\n",
    "    print(\"you are not elligible for voting\")"
   ]
  },
  {
   "cell_type": "code",
   "execution_count": 8,
   "id": "311763ac",
   "metadata": {},
   "outputs": [
    {
     "name": "stdout",
     "output_type": "stream",
     "text": [
      "Enter your age19\n",
      "you are elligible for voting\n",
      "Enter your name:VEERAMANI\n",
      "enter your area:THANJAVUR\n",
      "Thank you for entering your details.Your voter card will be delivered soon\n"
     ]
    }
   ],
   "source": [
    "age=int(input(\"Enter your age\"))\n",
    "if age>=18:\n",
    "    print(\"you are elligible for voting\")\n",
    "    Name=input(\"Enter your name:\")\n",
    "    Location=input(\"enter your area:\")\n",
    "    print(\"Thank you for entering your details.Your voter card will be delivered soon\")\n",
    "else:\n",
    "    print(\"you are not elligible for voting\")\n",
    "\n",
    "    "
   ]
  },
  {
   "cell_type": "code",
   "execution_count": 7,
   "id": "c63f02c0",
   "metadata": {},
   "outputs": [
    {
     "name": "stdout",
     "output_type": "stream",
     "text": [
      "enter days4\n",
      "your fine amount is 100\n"
     ]
    }
   ],
   "source": [
    "a=2\n",
    "b=4\n",
    "c=5\n",
    "due=int(input(\"enter days\"))\n",
    "if due==a:\n",
    "    print(\"your fine amount is 50\")\n",
    "elif due==b:\n",
    "    print(\"your fine amount is 100\")\n",
    "else:\n",
    "    print(\"your fine amount is 300\")\n",
    "    "
   ]
  },
  {
   "cell_type": "code",
   "execution_count": 18,
   "id": "a960ff75",
   "metadata": {},
   "outputs": [
    {
     "ename": "SyntaxError",
     "evalue": "invalid syntax (1400883580.py, line 2)",
     "output_type": "error",
     "traceback": [
      "\u001b[1;36m  Cell \u001b[1;32mIn[18], line 2\u001b[1;36m\u001b[0m\n\u001b[1;33m    if 4<=5<:\u001b[0m\n\u001b[1;37m            ^\u001b[0m\n\u001b[1;31mSyntaxError\u001b[0m\u001b[1;31m:\u001b[0m invalid syntax\n"
     ]
    }
   ],
   "source": [
    "\n",
    "    "
   ]
  },
  {
   "cell_type": "code",
   "execution_count": null,
   "id": "92228fd0",
   "metadata": {},
   "outputs": [],
   "source": []
  },
  {
   "cell_type": "code",
   "execution_count": null,
   "id": "fa8d1898",
   "metadata": {},
   "outputs": [],
   "source": []
  }
 ],
 "metadata": {
  "kernelspec": {
   "display_name": "Python 3 (ipykernel)",
   "language": "python",
   "name": "python3"
  },
  "language_info": {
   "codemirror_mode": {
    "name": "ipython",
    "version": 3
   },
   "file_extension": ".py",
   "mimetype": "text/x-python",
   "name": "python",
   "nbconvert_exporter": "python",
   "pygments_lexer": "ipython3",
   "version": "3.10.12"
  }
 },
 "nbformat": 4,
 "nbformat_minor": 5
}
