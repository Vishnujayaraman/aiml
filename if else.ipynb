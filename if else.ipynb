{
 "cells": [
  {
   "cell_type": "code",
   "execution_count": null,
   "id": "0dbfe986",
   "metadata": {},
   "outputs": [],
   "source": [
    "case_fees={\"helmet\":500,\"rc\":1000,\"lisence\":1500}\n",
    "case=input(\"enter the cases:\")\n",
    "if case=='helmet':\n",
    "    print(f\"your fees is:{case_fees['helmet']}\")\n",
    "elif case=='rc':\n",
    "    print(f\"your fees is:{case_fees['rc']}\")\n",
    "\n",
    "    \n",
    "else:\n",
    "    print(\"not valid\")\n",
    "    \n",
    "    \n",
    "    "
   ]
  },
  {
   "cell_type": "code",
   "execution_count": null,
   "id": "303aacb2",
   "metadata": {},
   "outputs": [],
   "source": []
  }
 ],
 "metadata": {
  "kernelspec": {
   "display_name": "Python 3 (ipykernel)",
   "language": "python",
   "name": "python3"
  },
  "language_info": {
   "codemirror_mode": {
    "name": "ipython",
    "version": 3
   },
   "file_extension": ".py",
   "mimetype": "text/x-python",
   "name": "python",
   "nbconvert_exporter": "python",
   "pygments_lexer": "ipython3",
   "version": "3.10.12"
  }
 },
 "nbformat": 4,
 "nbformat_minor": 5
}
